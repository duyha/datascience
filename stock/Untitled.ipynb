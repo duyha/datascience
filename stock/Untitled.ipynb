{
 "cells": [
  {
   "cell_type": "code",
   "execution_count": 4,
   "metadata": {
    "collapsed": true
   },
   "outputs": [],
   "source": [
    "from googlefinance import getQuotes\n",
    "import json\n",
    "from yahoo_finance import Share"
   ]
  },
  {
   "cell_type": "code",
   "execution_count": 3,
   "metadata": {
    "collapsed": false
   },
   "outputs": [
    {
     "name": "stdout",
     "output_type": "stream",
     "text": [
      "[\n",
      "  {\n",
      "    \"Index\": \"NASDAQ\", \n",
      "    \"LastTradeWithCurrency\": \"116.52\", \n",
      "    \"LastTradeDateTime\": \"2016-12-23T16:00:00Z\", \n",
      "    \"LastTradePrice\": \"116.52\", \n",
      "    \"LastTradeTime\": \"4:00PM EST\", \n",
      "    \"LastTradeDateTimeLong\": \"Dec 23, 4:00PM EST\", \n",
      "    \"StockSymbol\": \"AAPL\", \n",
      "    \"ID\": \"22144\"\n",
      "  }\n",
      "]\n"
     ]
    }
   ],
   "source": [
    "print json.dumps(getQuotes('AAPL'), indent=2)"
   ]
  },
  {
   "cell_type": "code",
   "execution_count": 5,
   "metadata": {
    "collapsed": true
   },
   "outputs": [],
   "source": [
    "yahoo = Share('YHOO')"
   ]
  },
  {
   "cell_type": "code",
   "execution_count": 6,
   "metadata": {
    "collapsed": true
   },
   "outputs": [],
   "source": [
    "hist = yahoo.get_historical('2014-04-25', '2014-04-29')"
   ]
  },
  {
   "cell_type": "code",
   "execution_count": 11,
   "metadata": {
    "collapsed": false
   },
   "outputs": [
    {
     "name": "stdout",
     "output_type": "stream",
     "text": [
      "3\n",
      "{'Volume': '28736000', 'Symbol': 'YHOO', 'Adj_Close': '35.830002', 'High': '35.889999', 'Low': '34.119999', 'Date': '2014-04-29', 'Close': '35.830002', 'Open': '34.369999'}\n"
     ]
    }
   ],
   "source": [
    "print len(hist)\n",
    "print hist[0]"
   ]
  },
  {
   "cell_type": "code",
   "execution_count": null,
   "metadata": {
    "collapsed": true
   },
   "outputs": [],
   "source": []
  }
 ],
 "metadata": {
  "kernelspec": {
   "display_name": "Python [Root]",
   "language": "python",
   "name": "Python [Root]"
  },
  "language_info": {
   "codemirror_mode": {
    "name": "ipython",
    "version": 2
   },
   "file_extension": ".py",
   "mimetype": "text/x-python",
   "name": "python",
   "nbconvert_exporter": "python",
   "pygments_lexer": "ipython2",
   "version": "2.7.12"
  }
 },
 "nbformat": 4,
 "nbformat_minor": 0
}
