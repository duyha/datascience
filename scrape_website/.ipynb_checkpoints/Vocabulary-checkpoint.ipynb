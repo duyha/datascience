{
 "cells": [
  {
   "cell_type": "code",
   "execution_count": 1,
   "metadata": {
    "collapsed": true
   },
   "outputs": [],
   "source": [
    "# Scrape websites\n",
    "import webbrowser\n",
    "import requests\n",
    "import pprint\n",
    "from bs4 import BeautifulSoup\n",
    "import pickle"
   ]
  },
  {
   "cell_type": "code",
   "execution_count": 2,
   "metadata": {
    "collapsed": false
   },
   "outputs": [
    {
     "name": "stdout",
     "output_type": "stream",
     "text": [
      "The adjective beautiful describes a thing that is pleasing to the senses. Most men think women are beautiful, and most women think babies are beautiful, but if you think you're beautiful, you might be vain.\n",
      "\n",
      "When you're giving a speech, you probably hope that your audience is gazing at you in fascination because what you're saying is so interesting , and not because you've got something weird on your face.\n",
      "\n",
      "Apply the noun implement when you want to use a fancy word for \"tool.\" A knife and fork are implements for handling food.\n"
     ]
    }
   ],
   "source": [
    "def get_definition(word):\n",
    "    page = 'https://www.vocabulary.com/dictionary/' + word\n",
    "    res = requests.get(page)\n",
    "    soup = BeautifulSoup(res.content, 'html.parser') \n",
    "    return \" \".join([s.string.strip() for s in soup.p.contents]) \n",
    "\n",
    "print get_definition('beautiful')\n",
    "print \n",
    "print get_definition('interesting')\n",
    "print \n",
    "print get_definition('implement')"
   ]
  },
  {
   "cell_type": "code",
   "execution_count": 3,
   "metadata": {
    "collapsed": false
   },
   "outputs": [
    {
     "name": "stdout",
     "output_type": "stream",
     "text": [
      "read 235886 words.\n"
     ]
    }
   ],
   "source": [
    "file_name = '/usr/share/dict/words'\n",
    "fo = open(file_name, 'r') \n",
    "words = []\n",
    "for line in fo:\n",
    "    words.append(line.strip())\n",
    "fo.close()\n",
    "print \"read %d words.\" % len(words)"
   ]
  },
  {
   "cell_type": "code",
   "execution_count": null,
   "metadata": {
    "collapsed": false
   },
   "outputs": [
    {
     "name": "stdout",
     "output_type": "stream",
     "text": [
      "Reading 1 words\n",
      "Reading 2 words\n",
      "Reading 4 words\n",
      "Reading 8 words\n",
      "Reading 16 words\n",
      "Reading 32 words\n",
      "Reading 64 words\n"
     ]
    }
   ],
   "source": [
    "dictionary = {}\n",
    "for n, word in enumerate(words):\n",
    "    if n and not(n&(n-1)):\n",
    "        print \"Reading %i words\" % n\n",
    "    dictionary[word] = get_definition(word)"
   ]
  },
  {
   "cell_type": "code",
   "execution_count": null,
   "metadata": {
    "collapsed": false
   },
   "outputs": [],
   "source": [
    "output_file = '/Users/duykhuongha/tmp/dictionary.pkl'\n",
    "output = open(output_file, 'wb')\n",
    "pickle.dump(dictionary, output)\n",
    "output.close()"
   ]
  },
  {
   "cell_type": "code",
   "execution_count": null,
   "metadata": {
    "collapsed": false
   },
   "outputs": [],
   "source": [
    "pkl_file = open(output_file, 'rb') \n",
    "data = pickle.load(pkl_file)\n",
    "pkl_file.close()\n",
    "print data"
   ]
  },
  {
   "cell_type": "code",
   "execution_count": 77,
   "metadata": {
    "collapsed": false
   },
   "outputs": [
    {
     "name": "stdout",
     "output_type": "stream",
     "text": [
      "['can_be_empty_element', 'previous_element', 'next_sibling', 'prefix', 'attrs', 'contents', 'tagStack', 'parse_only', 'namespace', 'preserve_whitespace_tag_stack', 'previous_sibling', 'original_encoding', 'current_data', 'hidden', 'parent', 'declared_html_encoding', 'is_xml', 'parser_class', 'next_element', 'contains_replacement_characters', 'name', 'builder', '_most_recent_element', 'currentTag', 'markup']\n"
     ]
    }
   ],
   "source": [
    "print vars(soup).keys()\n",
    "content = soup.p\n"
   ]
  },
  {
   "cell_type": "code",
   "execution_count": 131,
   "metadata": {
    "collapsed": false
   },
   "outputs": [
    {
     "name": "stdout",
     "output_type": "stream",
     "text": [
      "How can we \n",
      "[u'How can we ', <i>love</i>, u' our partners, our parents, sunsets at the beach, cats, and Fridays? The types of ', <i>love</i>, u' listed here mean different things \\u2014 but what remains is the certainty, at least for now, that what you ', <i>love</i>, u' is what you adore.']\n",
      "How can we love our partners, our parents, sunsets at the beach, cats, and Fridays? The types of love listed here mean different things — but what remains is the certainty, at least for now, that what you love is what you adore.\n"
     ]
    }
   ],
   "source": [
    "print soup.p.contents[0]\n",
    "word = 'love'\n",
    "page = 'https://www.vocabulary.com/dictionary/' + word\n",
    "res = requests.get(page)\n",
    "soup = BeautifulSoup(res.content, 'html.parser') \n",
    "print soup.p.contents\n",
    "print \" \".join([s.string.strip() for s in soup.p.contents])"
   ]
  },
  {
   "cell_type": "code",
   "execution_count": 162,
   "metadata": {
    "collapsed": false
   },
   "outputs": [
    {
     "name": "stdout",
     "output_type": "stream",
     "text": [
      "False\n",
      "True\n",
      "True\n",
      "False\n"
     ]
    }
   ],
   "source": [
    "def is_power2(n):\n",
    "    return n and not(n&(n-1))\n",
    "print is_power2(9)\n",
    "print is_power2(8)\n",
    "print is_power2(16)\n",
    "print is_power2(20)"
   ]
  },
  {
   "cell_type": "code",
   "execution_count": null,
   "metadata": {
    "collapsed": true
   },
   "outputs": [],
   "source": []
  }
 ],
 "metadata": {
  "anaconda-cloud": {},
  "kernelspec": {
   "display_name": "Python [Root]",
   "language": "python",
   "name": "Python [Root]"
  },
  "language_info": {
   "codemirror_mode": {
    "name": "ipython",
    "version": 2
   },
   "file_extension": ".py",
   "mimetype": "text/x-python",
   "name": "python",
   "nbconvert_exporter": "python",
   "pygments_lexer": "ipython2",
   "version": "2.7.12"
  }
 },
 "nbformat": 4,
 "nbformat_minor": 0
}
