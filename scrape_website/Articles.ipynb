{
 "cells": [
  {
   "cell_type": "code",
   "execution_count": null,
   "metadata": {
    "collapsed": false
   },
   "outputs": [],
   "source": [
    "# Scrape websites\n",
    "import webbrowser\n",
    "import requests\n",
    "import pprint\n",
    "from bs4 import BeautifulSoup\n",
    "import pickle\n",
    "import time\n",
    "import newspaper\n",
    "import nltk"
   ]
  },
  {
   "cell_type": "code",
   "execution_count": 6,
   "metadata": {
    "collapsed": false
   },
   "outputs": [],
   "source": [
    "time.sleep(0.1)"
   ]
  },
  {
   "cell_type": "code",
   "execution_count": 9,
   "metadata": {
    "collapsed": false
   },
   "outputs": [
    {
     "name": "stdout",
     "output_type": "stream",
     "text": [
      "\n",
      "Your available languages are:\n",
      "\n",
      "input code\t\tfull name\n",
      "  ar\t\t\t  Arabic\n",
      "  da\t\t\t  Danish\n",
      "  de\t\t\t  German\n",
      "  en\t\t\t  English\n",
      "  es\t\t\t  Spanish\n",
      "  fi\t\t\t  Finnish\n",
      "  fr\t\t\t  French\n",
      "  hu\t\t\t  Hungarian\n",
      "  id\t\t\t  Indonesian\n",
      "  it\t\t\t  Italian\n",
      "  ko\t\t\t  Korean\n",
      "  nb\t\t\t  Norwegian (Bokmål)\n",
      "  nl\t\t\t  Dutch\n",
      "  no\t\t\t  Norwegian\n",
      "  pt\t\t\t  Portuguese\n",
      "  ru\t\t\t  Russian\n",
      "  sv\t\t\t  Swedish\n",
      "  vi\t\t\t  Vietnamese\n",
      "  zh\t\t\t  Chinese\n",
      "\n",
      "None\n"
     ]
    }
   ],
   "source": [
    "print newspaper.languages() "
   ]
  },
  {
   "cell_type": "code",
   "execution_count": 10,
   "metadata": {
    "collapsed": true
   },
   "outputs": [],
   "source": [
    "tc = newspaper.build('https://techcrunch.com/')"
   ]
  },
  {
   "cell_type": "code",
   "execution_count": 22,
   "metadata": {
    "collapsed": false
   },
   "outputs": [
    {
     "name": "stdout",
     "output_type": "stream",
     "text": [
      "441\n",
      "0 https://techcrunch.com/2016/12/30/why-you-probably-wont-invest-in-the-next-unicorn/\n",
      "1 http://techcrunch.com/2016/03/11/nasas-next-mars-mission-scheduled-for-may-2018/\n",
      "2 https://techcrunch.com/video/co-opt-vs-disrupt-truth-disrupted-bitcoin-and-the-blockchain-s1e6/57f587195095497719f427c4/\n",
      "3 http://jp.techcrunch.com/2016/12/30/20161229samsungs-new-curved-monitor-coming-to-ces-is-somewhat-tailored-for-gamers/feed/\n",
      "4 https://techcrunch.com/gallery/a-look-back-on-tech-diversity-and-inclusion-in-2016/\n",
      "['__class__', '__delattr__', '__dict__', '__doc__', '__format__', '__getattribute__', '__hash__', '__init__', '__module__', '__new__', '__reduce__', '__reduce_ex__', '__repr__', '__setattr__', '__sizeof__', '__str__', '__subclasshook__', '__weakref__', 'additional_data', 'article_html', 'authors', 'build', 'build_resource_path', 'canonical_link', 'clean_doc', 'clean_top_node', 'config', 'doc', 'download', 'extractor', 'fetch_images', 'get_parse_candidate', 'get_resource_path', 'has_top_image', 'html', 'images', 'imgs', 'is_downloaded', 'is_media_news', 'is_parsed', 'is_valid_body', 'is_valid_url', 'keywords', 'meta_data', 'meta_description', 'meta_favicon', 'meta_img', 'meta_keywords', 'meta_lang', 'movies', 'nlp', 'parse', 'publish_date', 'release_resources', 'set_article_html', 'set_authors', 'set_canonical_link', 'set_html', 'set_imgs', 'set_keywords', 'set_meta_data', 'set_meta_description', 'set_meta_favicon', 'set_meta_img', 'set_meta_keywords', 'set_meta_language', 'set_movies', 'set_reddit_top_img', 'set_summary', 'set_tags', 'set_text', 'set_title', 'set_top_img', 'set_top_img_no_check', 'source_url', 'summary', 'tags', 'text', 'title', 'top_image', 'top_img', 'top_node', 'url']\n"
     ]
    }
   ],
   "source": [
    "print len(tc.articles)\n",
    "for i, article in enumerate(tc.articles):\n",
    "    print i, article.url \n",
    "    if (i >= 4): break \n",
    "print dir(article)"
   ]
  },
  {
   "cell_type": "code",
   "execution_count": null,
   "metadata": {
    "collapsed": false
   },
   "outputs": [],
   "source": [
    "article.download()\n",
    "article.parse()\n",
    "nltk.download()"
   ]
  },
  {
   "cell_type": "code",
   "execution_count": null,
   "metadata": {
    "collapsed": false
   },
   "outputs": [],
   "source": [
    "print article.authors\n",
    "print article.top_image\n",
    "print article.movies\n",
    "print article.text"
   ]
  },
  {
   "cell_type": "code",
   "execution_count": 43,
   "metadata": {
    "collapsed": false
   },
   "outputs": [],
   "source": [
    "article.nlp()"
   ]
  },
  {
   "cell_type": "code",
   "execution_count": 45,
   "metadata": {
    "collapsed": false
   },
   "outputs": [
    {
     "name": "stdout",
     "output_type": "stream",
     "text": [
      "[u'enforcement', u'law', u'diversity', u'look', u'inclusion', u'civil', u'media', u'agencies', u'surveillance', u'records', u'tech', u'social', u'using', u'2016', u'tools']\n"
     ]
    }
   ],
   "source": [
    "print article.keywords "
   ]
  },
  {
   "cell_type": "code",
   "execution_count": null,
   "metadata": {
    "collapsed": false
   },
   "outputs": [],
   "source": []
  },
  {
   "cell_type": "code",
   "execution_count": null,
   "metadata": {
    "collapsed": true
   },
   "outputs": [],
   "source": []
  }
 ],
 "metadata": {
  "kernelspec": {
   "display_name": "Python [Root]",
   "language": "python",
   "name": "Python [Root]"
  },
  "language_info": {
   "codemirror_mode": {
    "name": "ipython",
    "version": 2
   },
   "file_extension": ".py",
   "mimetype": "text/x-python",
   "name": "python",
   "nbconvert_exporter": "python",
   "pygments_lexer": "ipython2",
   "version": "2.7.12"
  }
 },
 "nbformat": 4,
 "nbformat_minor": 0
}
