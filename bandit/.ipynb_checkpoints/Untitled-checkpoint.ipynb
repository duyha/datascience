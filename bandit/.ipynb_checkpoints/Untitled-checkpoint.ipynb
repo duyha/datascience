{
 "cells": [
  {
   "cell_type": "code",
   "execution_count": 33,
   "metadata": {
    "collapsed": true
   },
   "outputs": [],
   "source": [
    "import math \n",
    "import random \n",
    "import matplotlib.pyplot as plt\n",
    "import numpy as np"
   ]
  },
  {
   "cell_type": "markdown",
   "metadata": {},
   "source": [
    "Efficient Bandit algorithm: \n",
    "\n",
    "Given two models, design a bandit algorithm that optimizes for \n",
    "- Learning rate \n",
    "- Profit for users"
   ]
  },
  {
   "cell_type": "code",
   "execution_count": 28,
   "metadata": {
    "collapsed": false
   },
   "outputs": [],
   "source": [
    "def model(conversion_rate = 0.01):\n",
    "    pass \n",
    "\n",
    "def get_decision(p):\n",
    "    # give 0/1 \n",
    "    if random.random() > p:\n",
    "        return 0\n",
    "    return 1\n",
    "\n",
    "def naive_bandit(\n",
    "    cvr_t = 0.01,\n",
    "    cvr_c = 0.02,\n",
    "    t_bandit = 0.5,\n",
    "    num_samples = 10000,\n",
    "    mini_batch = 100,\n",
    "):\n",
    "    bandit = min(0.95, max(0.05, t_bandit))\n",
    "    imps_t = imps_c = 0 \n",
    "    convs_t = convs_c = 0 \n",
    "    status = []\n",
    "    status.append((imps_t + imps_c, bandit, imps_t, imps_c, convs_t, convs_c))\n",
    "    while (imps_t + imps_c < num_samples):\n",
    "        if get_decision(bandit):\n",
    "            # user test \n",
    "            imps_t += 1\n",
    "            convs_t += get_decision(cvr_t)\n",
    "        else:\n",
    "            # user control \n",
    "            imps_c += 1\n",
    "            convs_c += get_decision(cvr_c)\n",
    "            \n",
    "        n_samples = imps_t + imps_c \n",
    "        if n_samples >= num_samples:\n",
    "            break \n",
    "            \n",
    "        current_cvr_t = 1.0 * convs_t / max(1, imps_t)\n",
    "        current_cvr_c = 1.0 * convs_c / max(1, imps_c)\n",
    "        if (n_samples % mini_batch == 0):\n",
    "            # update bandit \n",
    "            bandit = max(0.01, min(0.99, current_cvr_t / (current_cvr_t + current_cvr_c)))\n",
    "        \n",
    "        # Logging \n",
    "        status.append((imps_t + imps_c, bandit, imps_t, imps_c, convs_t, convs_c)) \n",
    "    return status "
   ]
  },
  {
   "cell_type": "code",
   "execution_count": 29,
   "metadata": {
    "collapsed": false
   },
   "outputs": [
    {
     "name": "stdout",
     "output_type": "stream",
     "text": [
      "1\n"
     ]
    }
   ],
   "source": [
    "print get_decision(0.5)\n",
    "status = naive_bandit(0.01, 0.02, 0.5, 5000)"
   ]
  },
  {
   "cell_type": "code",
   "execution_count": 32,
   "metadata": {
    "collapsed": false
   },
   "outputs": [
    {
     "name": "stdout",
     "output_type": "stream",
     "text": [
      "5000\n",
      "(4999, 0.99, 4885, 114, 58, 0)\n"
     ]
    }
   ],
   "source": [
    "print len(status)\n",
    "print status[-1] "
   ]
  },
  {
   "cell_type": "code",
   "execution_count": null,
   "metadata": {
    "collapsed": true
   },
   "outputs": [],
   "source": []
  }
 ],
 "metadata": {
  "kernelspec": {
   "display_name": "Python [Root]",
   "language": "python",
   "name": "Python [Root]"
  },
  "language_info": {
   "codemirror_mode": {
    "name": "ipython",
    "version": 2
   },
   "file_extension": ".py",
   "mimetype": "text/x-python",
   "name": "python",
   "nbconvert_exporter": "python",
   "pygments_lexer": "ipython2",
   "version": "2.7.12"
  }
 },
 "nbformat": 4,
 "nbformat_minor": 0
}
