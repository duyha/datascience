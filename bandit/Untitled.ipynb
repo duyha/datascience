{
 "cells": [
  {
   "cell_type": "code",
   "execution_count": 199,
   "metadata": {
    "collapsed": true
   },
   "outputs": [],
   "source": [
    "%matplotlib inline\n",
    "import math \n",
    "import random \n",
    "import matplotlib.pyplot as plt\n",
    "import numpy as np\n",
    "import time"
   ]
  },
  {
   "cell_type": "markdown",
   "metadata": {},
   "source": [
    "Efficient Bandit algorithm: \n",
    "\n",
    "Given two models, design a bandit algorithm that optimizes for \n",
    "- Learning rate \n",
    "- Profit for users"
   ]
  },
  {
   "cell_type": "code",
   "execution_count": 255,
   "metadata": {
    "collapsed": false
   },
   "outputs": [],
   "source": [
    "def model(conversion_rate = 0.01):\n",
    "    pass \n",
    "\n",
    "def get_decision(p):\n",
    "    # give 0/1 \n",
    "    if random.random() > p:\n",
    "        return 0\n",
    "    return 1\n",
    "\n",
    "def naive_bandit(\n",
    "    cvr_t = 0.01,\n",
    "    cvr_c = 0.02,\n",
    "    t_bandit = 0.5,\n",
    "    num_samples = 10000,\n",
    "    mini_batch = 100,\n",
    "):\n",
    "    random.seed(time.clock())\n",
    "    bandit = min(0.95, max(0.05, t_bandit))\n",
    "    imps_t = imps_c = 0 \n",
    "    convs_t = convs_c = 0 \n",
    "    model_convs_t = model_convs_c = 0\n",
    "    status = []\n",
    "    status.append((imps_t + imps_c, bandit, imps_t, imps_c, convs_t, convs_c, model_convs_t, model_convs_c))\n",
    "    while (imps_t + imps_c < num_samples):\n",
    "        decision_t = get_decision(cvr_t)\n",
    "        decision_c = get_decision(cvr_c)\n",
    "        \n",
    "        # conversions from each model \n",
    "        model_convs_t += decision_t \n",
    "        model_convs_c += decision_c \n",
    "        \n",
    "        if get_decision(bandit):\n",
    "            # user test \n",
    "            imps_t += 1\n",
    "            convs_t += decision_t\n",
    "        else:\n",
    "            # user control \n",
    "            imps_c += 1\n",
    "            convs_c += decision_c\n",
    "            \n",
    "        n_samples = imps_t + imps_c \n",
    "        if n_samples >= num_samples:\n",
    "            break \n",
    "            \n",
    "        current_cvr_t = 1.0 * convs_t / max(1, imps_t)\n",
    "        current_cvr_c = 1.0 * convs_c / max(1, imps_c)\n",
    "        if (n_samples % mini_batch == 0 and convs_t + convs_c > 0):\n",
    "            # update bandit \n",
    "            bandit = max(0.01, min(0.99, current_cvr_t / (current_cvr_t + current_cvr_c)))\n",
    "        \n",
    "        # Logging \n",
    "        status.append((imps_t + imps_c, bandit, imps_t, imps_c, convs_t, convs_c, model_convs_t, model_convs_c)) \n",
    "        \n",
    "    return status "
   ]
  },
  {
   "cell_type": "code",
   "execution_count": 278,
   "metadata": {
    "collapsed": false
   },
   "outputs": [
    {
     "name": "stdout",
     "output_type": "stream",
     "text": [
      "1\n"
     ]
    }
   ],
   "source": [
    "print get_decision(0.5)\n",
    "status = naive_bandit(\n",
    "    cvr_t=0.04,\n",
    "    cvr_c=0.03,\n",
    "    t_bandit=0.5, \n",
    "    num_samples=10000, \n",
    "    mini_batch=1000,\n",
    ")"
   ]
  },
  {
   "cell_type": "code",
   "execution_count": 279,
   "metadata": {
    "collapsed": false
   },
   "outputs": [
    {
     "name": "stdout",
     "output_type": "stream",
     "text": [
      "10000\n",
      "(9999, 0.5658474043253181, 5488, 4511, 238, 145, 430, 295)\n"
     ]
    }
   ],
   "source": [
    "print len(status)\n",
    "print status[-1] "
   ]
  },
  {
   "cell_type": "code",
   "execution_count": 280,
   "metadata": {
    "collapsed": false
   },
   "outputs": [
    {
     "data": {
      "image/png": "[encoded data removed]",
      "text/plain": [
       "<matplotlib.figure.Figure at 0x10d7053d0>"
      ]
     },
     "metadata": {},
     "output_type": "display_data"
    }
   ],
   "source": [
    "x = np.array([value[0] for value in status])\n",
    "y = np.array([value[1] for value in status])\n",
    "#plt.ylim([0.0, 0.6])\n",
    "line, = plt.plot(x, y, '-', linewidth=3)"
   ]
  },
  {
   "cell_type": "code",
   "execution_count": 282,
   "metadata": {
    "collapsed": false
   },
   "outputs": [
    {
     "data": {
      "text/plain": [
       "<matplotlib.legend.Legend at 0x110d4dc50>"
      ]
     },
     "execution_count": 282,
     "metadata": {},
     "output_type": "execute_result"
    },
    {
     "data": {
      "image/png": "[encoded data removed]",
      "text/plain": [
       "<matplotlib.figure.Figure at 0x10cb60450>"
      ]
     },
     "metadata": {},
     "output_type": "display_data"
    }
   ],
   "source": [
    "samples = np.array([value[0] for value in status]) \n",
    "convs_prod = np.array([value[4] + value[5] for value in status]) \n",
    "convs_test_model = np.array([value[6] for value in status]) \n",
    "convs_control_model = np.array([value[7] for value in status]) \n",
    "line, = plt.plot(samples, convs_prod, '-', linewidth=1, label='prod')\n",
    "line, = plt.plot(samples, convs_test_model, '-', linewidth=1, label='test')\n",
    "line, = plt.plot(samples, convs_control_model, '-', linewidth=1, label='control') \n",
    "plt.legend(loc=2)"
   ]
  },
  {
   "cell_type": "code",
   "execution_count": 245,
   "metadata": {
    "collapsed": false
   },
   "outputs": [
    {
     "name": "stdout",
     "output_type": "stream",
     "text": [
      "(0, 0.5, 0, 0, 0, 0, 0, 0)\n"
     ]
    }
   ],
   "source": [
    "print status[0]"
   ]
  },
  {
   "cell_type": "code",
   "execution_count": 201,
   "metadata": {
    "collapsed": false
   },
   "outputs": [
    {
     "data": {
      "text/plain": [
       "14.075508"
      ]
     },
     "execution_count": 201,
     "metadata": {},
     "output_type": "execute_result"
    }
   ],
   "source": [
    "time.clock()"
   ]
  },
  {
   "cell_type": "code",
   "execution_count": null,
   "metadata": {
    "collapsed": true
   },
   "outputs": [],
   "source": []
  }
 ],
 "metadata": {
  "anaconda-cloud": {},
  "kernelspec": {
   "display_name": "Python [Root]",
   "language": "python",
   "name": "Python [Root]"
  },
  "language_info": {
   "codemirror_mode": {
    "name": "ipython",
    "version": 2
   },
   "file_extension": ".py",
   "mimetype": "text/x-python",
   "name": "python",
   "nbconvert_exporter": "python",
   "pygments_lexer": "ipython2",
   "version": "2.7.12"
  }
 },
 "nbformat": 4,
 "nbformat_minor": 0
}
